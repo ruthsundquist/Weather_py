{
 "cells": [
  {
   "cell_type": "code",
   "execution_count": 42,
   "metadata": {},
   "outputs": [],
   "source": [
    "# Dependencies and Setup\n",
    "import matplotlib.pyplot as plt\n",
    "%matplotlib inline\n",
    "import pandas as pd\n",
    "import numpy as np\n",
    "import requests\n",
    "import time"
   ]
  },
  {
   "cell_type": "code",
   "execution_count": 43,
   "metadata": {},
   "outputs": [
    {
     "name": "stdout",
     "output_type": "stream",
     "text": [
      "<class 'str'>\n"
     ]
    }
   ],
   "source": [
    "from api_key import api_key\n",
    "print(type(api_key))"
   ]
  },
  {
   "cell_type": "code",
   "execution_count": 44,
   "metadata": {},
   "outputs": [],
   "source": [
    "# Incorporated citipy to determine city based on latitude and longitude\n",
    "from citipy import citipy"
   ]
  },
  {
   "cell_type": "code",
   "execution_count": 45,
   "metadata": {},
   "outputs": [
    {
     "data": {
      "text/plain": [
       "46833"
      ]
     },
     "execution_count": 45,
     "metadata": {},
     "output_type": "execute_result"
    }
   ],
   "source": [
    "#tell me about citipy\n",
    "citipy.cities.line_num\n",
    "\n"
   ]
  },
  {
   "cell_type": "code",
   "execution_count": 46,
   "metadata": {},
   "outputs": [],
   "source": [
    "# Output File (CSV)\n",
    "output_data_path = \"output_data/cities.csv\""
   ]
  },
  {
   "cell_type": "code",
   "execution_count": 47,
   "metadata": {},
   "outputs": [],
   "source": [
    "lat= 34.64\n",
    "lon= -120.46"
   ]
  },
  {
   "cell_type": "code",
   "execution_count": 48,
   "metadata": {},
   "outputs": [],
   "source": [
    "weather_response =requests.get (f\"https://api.openweathermap.org/data/2.5/weather?lat={lat}&lon={lon}&appid={api_key}\")"
   ]
  },
  {
   "cell_type": "code",
   "execution_count": 49,
   "metadata": {},
   "outputs": [],
   "source": [
    "#find out what is the type for weather\n",
    "#type(weather_response)"
   ]
  },
  {
   "cell_type": "code",
   "execution_count": 50,
   "metadata": {},
   "outputs": [
    {
     "data": {
      "text/plain": [
       "{'coord': {'lon': -120.46, 'lat': 34.64},\n",
       " 'weather': [{'id': 803,\n",
       "   'main': 'Clouds',\n",
       "   'description': 'broken clouds',\n",
       "   'icon': '04n'}],\n",
       " 'base': 'stations',\n",
       " 'main': {'temp': 288.62,\n",
       "  'pressure': 1022,\n",
       "  'humidity': 82,\n",
       "  'temp_min': 286.48,\n",
       "  'temp_max': 291.15},\n",
       " 'visibility': 16093,\n",
       " 'wind': {'speed': 8.7, 'deg': 340},\n",
       " 'clouds': {'all': 75},\n",
       " 'dt': 1553388112,\n",
       " 'sys': {'type': 1,\n",
       "  'id': 6155,\n",
       "  'message': 0.005,\n",
       "  'country': 'US',\n",
       "  'sunrise': 1553349687,\n",
       "  'sunset': 1553393718},\n",
       " 'id': 5367788,\n",
       " 'name': 'Lompoc',\n",
       " 'cod': 200}"
      ]
     },
     "execution_count": 50,
     "metadata": {},
     "output_type": "execute_result"
    }
   ],
   "source": [
    "weather_response.json()"
   ]
  },
  {
   "cell_type": "code",
   "execution_count": 51,
   "metadata": {},
   "outputs": [],
   "source": [
    "# Range of latitudes and longitudes from city.py library\n",
    "lat_range = (-90, 90)\n",
    "lng_range = (-180, 180)  \n",
    "  "
   ]
  },
  {
   "cell_type": "code",
   "execution_count": 52,
   "metadata": {},
   "outputs": [],
   "source": [
    "  # List for holding lat_lngs and cities\n",
    "lat_lngs = []\n",
    "cities = []"
   ]
  },
  {
   "cell_type": "code",
   "execution_count": 53,
   "metadata": {},
   "outputs": [],
   "source": [
    "# Create a set of random lat and lng combinations\n",
    "lats = np.random.uniform(low=-90.000, high=90.000, size=1500)\n",
    "lngs = np.random.uniform(low=-180.000, high=180.000, size=1500)\n",
    "lat_lngs = zip(lats, lngs)\n",
    "# for lat_lng in lat_lngs:\n",
    "#     print(lat_lng)\n"
   ]
  },
  {
   "cell_type": "code",
   "execution_count": 54,
   "metadata": {},
   "outputs": [
    {
     "data": {
      "text/plain": [
       "563"
      ]
     },
     "execution_count": 54,
     "metadata": {},
     "output_type": "execute_result"
    }
   ],
   "source": [
    "# Identify nearest city for each lat, lng combination\n",
    "city_lat_lng =dict()\n",
    "for lat_lng in lat_lngs:\n",
    "    city = citipy.nearest_city(lat_lng[0], lat_lng[1]).city_name\n",
    "        \n",
    "    # If the city is unique, then add it to a our cities list\n",
    "    if city not in cities:\n",
    "        \n",
    "        \n",
    "        cities.append(city)\n",
    "       # city_lat_lng[city] = [lat_lng[0], lat_lng[1]]#this is an list that stores cityname and latlon\n",
    "\n",
    "# Print the city count to confirm sufficient count\n",
    "len(cities)\n"
   ]
  },
  {
   "cell_type": "code",
   "execution_count": 55,
   "metadata": {},
   "outputs": [],
   "source": [
    "weather_response_city = (weather_response.json()['name'])"
   ]
  },
  {
   "cell_type": "code",
   "execution_count": 56,
   "metadata": {},
   "outputs": [
    {
     "data": {
      "text/plain": [
       "'Lompoc'"
      ]
     },
     "execution_count": 56,
     "metadata": {},
     "output_type": "execute_result"
    }
   ],
   "source": [
    "weather_response_city"
   ]
  },
  {
   "cell_type": "code",
   "execution_count": 57,
   "metadata": {},
   "outputs": [
    {
     "name": "stdout",
     "output_type": "stream",
     "text": [
      "82\n"
     ]
    },
    {
     "data": {
      "text/plain": [
       "'qaanaaq'"
      ]
     },
     "execution_count": 57,
     "metadata": {},
     "output_type": "execute_result"
    }
   ],
   "source": [
    "weather_response_humidity = (weather_response.json()['main'][\"humidity\"])\n",
    "print(weather_response_humidity)\n",
    "city"
   ]
  },
  {
   "cell_type": "code",
   "execution_count": 58,
   "metadata": {},
   "outputs": [
    {
     "name": "stdout",
     "output_type": "stream",
     "text": [
      "['chilca', 'bluff', 'avallon', 'klaksvik', 'busselton', 'mataura', 'rakaia', 'nuuk', 'portland', 'hobart']\n"
     ]
    }
   ],
   "source": [
    "print(cities[:10])"
   ]
  },
  {
   "cell_type": "code",
   "execution_count": 59,
   "metadata": {},
   "outputs": [
    {
     "name": "stdout",
     "output_type": "stream",
     "text": [
      "{}\n"
     ]
    }
   ],
   "source": [
    "#test weather data for a city in unique cities list -- if found return the humidity, name, \n",
    "if weather_response_humidity in cities[:10]:\n",
    "    city_lat_lng[weather_response_city]\n",
    "print(city_lat_lng)\n"
   ]
  },
  {
   "cell_type": "code",
   "execution_count": 60,
   "metadata": {
    "scrolled": true
   },
   "outputs": [
    {
     "name": "stdout",
     "output_type": "stream",
     "text": [
      "['chilca', 'bluff', 'avallon', 'klaksvik', 'busselton', 'mataura', 'rakaia', 'nuuk', 'portland', 'hobart', 'sistranda', 'mys shmidta', 'kapaa', 'punta arenas', 'ushuaia', 'yellowknife', 'viligili', 'thompson', 'ponta do sol', 'lebu', 'enshi', 'ancud', 'longyearbyen', 'kudahuvadhoo', 'vaini', 'tuktoyaktuk', 'rungata', 'wahiawa', 'illoqqortoormiut', 'erzin', 'north branch', 'mayumba', 'albany', 'attawapiskat', 'mar del plata', 'rikitea', 'mahebourg', 'hermanus', 'chokurdakh', 'solvychegodsk', 'kodiak', 'saskylakh', 'norman wells', 'jalu', 'taunggyi', 'inderborskiy', 'faanui', 'avera', 'hithadhoo', 'barrow', 'sinnamary', 'tapiramuta', 'nhulunbuy', 'udachnyy', 'kyren', 'oskarshamn', 'moerai', 'gamba', 'ribeira grande', 'naze', 'bredasdorp', 'atuona', 'tasiilaq', 'manhattan', 'new norfolk', 'banikoara', 'dikson', 'khatanga', 'acapulco', 'port alfred', 'carnarvon', 'taolanaro', 'pacific grove', 'east london', 'dire', 'sawakin', 'hilo', 'karymskoye', 'champerico', 'vardo', 'marzuq', 'tiksi', 'qaanaaq', 'karauzyak', 'sinjar', 'kirkland lake', 'husavik', 'barentsburg', 'saint-pierre', 'nenjiang', 'cape town', 'upernavik', 'kamenskoye', 'lerwick', 'butaritari', 'tuatapere', 'chuy', 'avarua', 'brae', 'bengkulu', 'palmer', 'san jeronimo', 'puerto ayora', 'nikolskoye', 'port lincoln', 'caravelas', 'vargem grande', 'nesbyen', 'cidreira', 'vestmanna', 'mao', 'severo-kurilsk', 'codrington', 'jacareacanga', 'grande-riviere', 'baturaja', 'koszalin', 'geraldton', 'benjamin constant', 'luganville', 'placido de castro', 'beni', 'cockburn town', 'richards bay', 'bandarbeyla', 'mezen', 'mogochin', 'jamestown', 'amderma', 'plettenberg bay', 'kruisfontein', 'bilibino', 'piacabucu', 'eydhafushi', 'airai', 'port elizabeth', 'marcona', 'namatanai', 'sao sebastiao do paraiso', 'saleaula', 'vanimo', 'hihifo', 'cabo san lucas', 'neiafu', 'gwadar', 'coihaique', 'maragogi', 'torbay', 'leningradskiy', 'zhenlai', 'aksu', 'kieta', 'sabaudia', 'dayong', 'saint george', 'tsihombe', 'glushkovo', 'coahuayana', 'tashtagol', 'ashland', 'zhangjiakou', 'vondrozo', 'castro', 'kahului', 'kavaratti', 'coruripe', 'ostrovnoy', 'longyan', 'victoria', 'samusu', 'hasaki', 'labuhan', 'padang', 'saldanha', 'belushya guba', 'cayenne', 'margate', 'liwale', 'port blair', 'alice springs', 'ngaoundere', 'shahrud', 'wadi musa', 'bambanglipuro', 'lompoc', 'qaqortoq', 'georgetown', 'bousse', 'huruta', 'morro bay', 'provideniya', 'baiyin', 'college', 'kamenka', 'clyde river', 'bambous virieux', 'great falls', 'beyneu', 'espanola', 'huicheng', 'hervey bay', 'baykit', 'fredericksburg', 'sola', 'ust-kulom', 'tessalit', 'cartagena', 'palabuhanratu', 'roma', 'yerbogachen', 'selma', 'bethel', 'rio gallegos', 'impfondo', 'krasnoselkup', 'saint-philippe', 'lagoa', 'pathein', 'billings', 'ulladulla', 'denpasar', 'port antonio', 'la asuncion', 'sikeston', 'tual', 'micheweni', 'korla', 'chipinge', 'salalah', 'whitianga', 'nampula', 'yulara', 'saint anthony', 'trelew', 'port hardy', 'kazerun', 'vila franca do campo', 'dwarka', 'cherskiy', 'tokmak', 'nemuro', 'pevek', 'camacha', 'kalmunai', 'san patricio', 'rio grande', 'mahon', 'fort nelson', 'bonavista', 'mamakan', 'teguise', 'la ronge', 'zheleznodorozhnyy', 'oriximina', 'esperance', 'willmar', 'andenes', 'bhainsa', 'panguipulli', 'buraydah', 'nome', 'lavrentiya', 'takoradi', 'sitka', 'urubicha', 'zaranj', 'glencoe', 'angoche', 'karpogory', 'oudtshoorn', 'havre-saint-pierre', 'mount gambier', 'ewa beach', 'krasnyy', 'kumeny', 'mapiripan', 'fortuna', 'san cristobal', 'shache', 'anadyr', 'ayios matthaios', 'kaitangata', 'abu samrah', 'sao jose da coroa grande', 'phan rang', 'taltal', 'nkowakowa', 'haines junction', 'koboldo', 'honningsvag', 'pangnirtung', 'calderara di reno', 'gigmoto', 'bela', 'weligama', 'grand river south east', 'klyuchi', 'varkaus', 'biak', 'arraial do cabo', 'negombo', 'atar', 'faya', 'hambantota', 'cabedelo', 'morehead', 'kuusamo', 'kananga', 'antofagasta', 'paredon', 'turukhansk', 'amapa', 'kato akhaia', 'nacala', 'saint-augustin', 'astoria', 'souillac', 'sant feliu de guixols', 'sehithwa', 'tezu', 'moosomin', 'akureyri', 'tupik', 'genhe', 'lasem', 'esna', 'eyl', 'biu', 'nizhneyansk', 'shiyan', 'aksarka', 'katangli', 'kongolo', 'chumikan', 'broome', 'dalvik', 'adre', 'iqaluit', 'vasteras', 'isangel', 'gorin', 'asfi', 'elban', 'tetouan', 'alto araguaia', 'terracina', 'svolvaer', 'mackenzie', 'chapais', 'defiance', 'te anau', 'tiarei', 'kargasok', 'bolungarvik', 'constitucion', 'paducah', 'itarema', 'praia da vitoria', 'kurumkan', 'urengoy', 'wad rawah', 'san policarpo', 'abalak', 'ucluelet', 'mala', 'san rafael', 'salina cruz', 'thinadhoo', 'pedernales', 'gorontalo', 'valparaiso', 'kisangani', 'beloha', 'hue', 'bedesa', 'sentyabrskiy', 'walvis bay', 'comodoro rivadavia', 'pimenteiras', 'giddalur', 'diffa', 'half moon bay', 'kalabo', 'nara', 'gosainganj', 'santo domingo', 'ranong', 'marawi', 'asyut', 'houma', 'marietta', 'sisimiut', 'fort-shevchenko', 'lima', 'deputatskiy', 'malwan', 'barra patuca', 'katsuura', 'westport', 'bereda', 'lemesos', 'svetlyy', 'sao filipe', 'bima', 'nanortalik', 'beira', 'pasighat', 'kishtwar', 'aklavik', 'kavieng', 'palu', 'mohan', 'lichinga', 'san estanislao', 'lata', 'corrente', 'prainha', 'wazzan', 'kirakira', 'singaraja', 'olafsvik', 'reims', 'kysyl-syr', 'alofi', 'addi ugri', 'fremont', 'satitoa', 'iquitos', 'meulaboh', 'hofn', 'grindavik', 'goderich', 'namibe', 'civitanova marche', 'usogorsk', 'koygorodok', 'deoband', 'narsaq', 'safford', 'maningrida', 'gazojak', 'sao felix do xingu', 'temaraia', 'najran', 'saintes', 'dryden', 'karratha', 'hobyo', 'hvide sande', 'nadvoitsy', 'balykshi', 'stromness', 'innisfail', 'falkenberg', 'ilhabela', 'santarem', 'nusaybin', 'male', 'belgrade', 'sept-iles', 'kitami', 'sobolevo', 'suzu', 'bulgan', 'montepuez', 'tazovskiy', 'yaan', 'wanaka', 'laramie', 'vila', 'rorvik', 'umm kaddadah', 'tura', 'talakan', 'vestmannaeyjar', 'lambarene', 'mosquera', 'black forest', 'almaznyy', 'mullaitivu', 'nantucket', 'gizo', 'scarborough', 'ndungu', 'george town', 'guerrero negro', 'nizhniy tsasuchey', 'maarianhamina', 'benguela', 'mount isa', 'bogorodskoye', 'manavalakurichi', 'pochutla', 'kununurra', 'basco', 'bilma', 'cordoba', 'yomitan', 'chicama', 'xuddur', 'ahuimanu', 'aqtobe', 'praxedis guerrero', 'ciudad bolivar', 'banepa', 'ola', 'belmonte', 'ritchie', 'nishihara', 'vaitupu', 'ilulissat', 'bago', 'neuquen', 'karamea', 'kamaishi', 'moron', 'galanta', 'ulubaria', 'reinosa', 'carlagan', 'spas-demensk', 'hastings', 'creston', 'inirida', 'zanzibar', 'kenai', 'ahipara', 'ponta delgada', 'okha', 'xai-xai', 'tyrma', 'coquimbo', 'bahia honda', 'paucartambo', 'pleshanovo', 'lufilufi', 'okhotsk', 'simao', 'maceio', 'athabasca', 'grand centre', 'plyussa', 'adrar', 'batemans bay', 'gawler', 'huejuquilla el alto', 'pincher creek', 'vilyuysk', 'skalistyy', 'calama', 'sur', 'port hawkesbury', 'mount pleasant', 'oktyabrskoye', 'rawson', 'davila', 'aykhal', 'srednekolymsk', 'touros', 'churapcha', 'ossora', 'chenzhou', 'spring hill']\n"
     ]
    }
   ],
   "source": [
    "print(cities)"
   ]
  },
  {
   "cell_type": "code",
   "execution_count": 61,
   "metadata": {},
   "outputs": [
    {
     "data": {
      "text/plain": [
       "563"
      ]
     },
     "execution_count": 61,
     "metadata": {},
     "output_type": "execute_result"
    }
   ],
   "source": [
    "#cities[0].head()\n",
    "len(cities)"
   ]
  },
  {
   "cell_type": "code",
   "execution_count": 62,
   "metadata": {},
   "outputs": [],
   "source": [
    "weather_df = pd.DataFrame(columns=[\"City\",\"Cloudiness\",\"Country\",\"Date\",\"Humidity\",\"Lat\",\"Lng\",\"Max_Temp\",\"Wind_Speed\"])\n"
   ]
  },
  {
   "cell_type": "code",
   "execution_count": 80,
   "metadata": {},
   "outputs": [
    {
     "ename": "SyntaxError",
     "evalue": "invalid syntax (<ipython-input-80-51ce522dad03>, line 46)",
     "output_type": "error",
     "traceback": [
      "\u001b[1;36m  File \u001b[1;32m\"<ipython-input-80-51ce522dad03>\"\u001b[1;36m, line \u001b[1;32m46\u001b[0m\n\u001b[1;33m    weather_df = weather_df.append(Values_dict, ignore_index = True)\u001b[0m\n\u001b[1;37m             ^\u001b[0m\n\u001b[1;31mSyntaxError\u001b[0m\u001b[1;31m:\u001b[0m invalid syntax\n"
     ]
    }
   ],
   "source": [
    "\n",
    "for cityname in cities:\n",
    "\n",
    "    #print(cityname)\n",
    "\n",
    "    try:\n",
    "        #var=requests.get(\"https://api.openweathermap.org/data/2.5/weather\",params={\"lat\":lat,\"lon\":lon,\"appid\":api_key}).json()\n",
    "        var=requests.get(f\"https://api.openweathermap.org/data/2.5/weather?q={cityname}&appid={api_key}\").json()\n",
    "\n",
    "        #         #cityn = var[\"name\"]\n",
    "        if cityname:\n",
    "            cityn = var[cityname]\n",
    "       # print(\"City\":cityn)\n",
    "        if clouds:\n",
    "            clouds = var[\"clouds\"][\"all\"]\n",
    "       # print('Cloudiness':clouds)\n",
    "        if country:\n",
    "            country = var[\"sys\"][\"country\"]\n",
    "        #print(\"Country\":country)\n",
    "        if date:\n",
    "            date = var[\"dt\"]#print#('check1')\n",
    "       # print(\"Date\":date)#('check1')\n",
    "# #         #date =(((date/60)/60)/24)+DATE(1970,1,1)\n",
    "        if humidity:\n",
    "              humidity = var[\"main\"][\"humidity\"]\n",
    "       # print(\"Humidity\":humidity)\n",
    "        if lat:     \n",
    "             lat = var[\"coord\"][\"lat\"]\n",
    "        #print(\"Lat\":lat)\n",
    "        if lon: \n",
    "            long = var[\"coord\"][\"lon\"]\n",
    "        #print(\"Lng:long\")\n",
    "        if maxtemp:     \n",
    "            maxtemp = var[\"main\"][\"temp_max\"]\n",
    "       # print(\"Max_Temp\":maxtemp)\n",
    "#         #maxtemp= maxtemp * (9/5)+32\n",
    "       # if windspeed:\n",
    "       # windspeed = var[\"wind\"][\"speed\"]\n",
    "        #print(\"Wind_Speed\":windspeed)\n",
    "        windspeed = windspeed / (0.44704)\n",
    "# #this is the process that takes the variables from the jason and associates them to the dataframe                                      \n",
    "        Values_dict = {\"City\":cityn,\"Cloudiness\":clouds,\"Country\":country,\"Date\":date,\"Humidity\":humidity,\"Lat\":lat,\"Lng\":long,\"Max_Temp\":maxtemp,\"Wind_Speed\":windspeed}   \n",
    "        #print('check3')\n",
    "        #if cityn:\n",
    "           # print('check4')\n",
    "    weather_df = weather_df.append(Values_dict, ignore_index = True)\n",
    "           # print('check5')\n",
    "#             print(weather_df)\n",
    "    except:\n",
    "        print(\"I have a problem\")\n",
    "#break\n",
    "#weather_df.head(20)"
   ]
  },
  {
   "cell_type": "code",
   "execution_count": 81,
   "metadata": {},
   "outputs": [],
   "source": [
    "# var=requests.get(f\"https://api.openweathermap.org/data/2.5/weather?q=London&appid={api_key}\").json()\n",
    "# print (var)"
   ]
  },
  {
   "cell_type": "code",
   "execution_count": 82,
   "metadata": {},
   "outputs": [
    {
     "name": "stdout",
     "output_type": "stream",
     "text": [
      "Empty DataFrame\n",
      "Columns: [City, Cloudiness, Country, Date, Humidity, Lat, Lng, Max_Temp, Wind_Speed]\n",
      "Index: []\n"
     ]
    }
   ],
   "source": [
    "print(weather_df)"
   ]
  },
  {
   "cell_type": "code",
   "execution_count": null,
   "metadata": {},
   "outputs": [],
   "source": []
  },
  {
   "cell_type": "code",
   "execution_count": null,
   "metadata": {},
   "outputs": [],
   "source": []
  },
  {
   "cell_type": "code",
   "execution_count": null,
   "metadata": {},
   "outputs": [],
   "source": []
  }
 ],
 "metadata": {
  "kernelspec": {
   "display_name": "Python 3",
   "language": "python",
   "name": "python3"
  },
  "language_info": {
   "codemirror_mode": {
    "name": "ipython",
    "version": 3
   },
   "file_extension": ".py",
   "mimetype": "text/x-python",
   "name": "python",
   "nbconvert_exporter": "python",
   "pygments_lexer": "ipython3",
   "version": "3.7.1"
  }
 },
 "nbformat": 4,
 "nbformat_minor": 2
}
