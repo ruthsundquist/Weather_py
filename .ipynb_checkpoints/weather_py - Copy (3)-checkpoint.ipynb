{
 "cells": [
  {
   "cell_type": "code",
   "execution_count": 1,
   "metadata": {},
   "outputs": [],
   "source": [
    "# Dependencies and Setup\n",
    "import matplotlib.pyplot as plt\n",
    "%matplotlib inline\n",
    "import pandas as pd\n",
    "import numpy as np\n",
    "import requests\n",
    "import time"
   ]
  },
  {
   "cell_type": "code",
   "execution_count": 2,
   "metadata": {},
   "outputs": [
    {
     "name": "stdout",
     "output_type": "stream",
     "text": [
      "<class 'str'>\n"
     ]
    }
   ],
   "source": [
    "from api_key import api_key\n",
    "print(type(api_key))"
   ]
  },
  {
   "cell_type": "code",
   "execution_count": 3,
   "metadata": {},
   "outputs": [],
   "source": [
    "# Incorporated citipy to determine city based on latitude and longitude\n",
    "from citipy import citipy"
   ]
  },
  {
   "cell_type": "code",
   "execution_count": 4,
   "metadata": {},
   "outputs": [
    {
     "data": {
      "text/plain": [
       "46833"
      ]
     },
     "execution_count": 4,
     "metadata": {},
     "output_type": "execute_result"
    }
   ],
   "source": [
    "#tell me about citipy\n",
    "citipy.cities.line_num\n",
    "\n"
   ]
  },
  {
   "cell_type": "code",
   "execution_count": 5,
   "metadata": {},
   "outputs": [],
   "source": [
    "# Output File (CSV)\n",
    "output_data_path = \"output_data/cities.csv\""
   ]
  },
  {
   "cell_type": "code",
   "execution_count": 6,
   "metadata": {},
   "outputs": [],
   "source": [
    "lat= 34.64\n",
    "lon= -120.46"
   ]
  },
  {
   "cell_type": "code",
   "execution_count": 7,
   "metadata": {},
   "outputs": [],
   "source": [
    "weather_response =requests.get (f\"https://api.openweathermap.org/data/2.5/weather?lat={lat}&lon={lon}&appid={api_key}\")"
   ]
  },
  {
   "cell_type": "code",
   "execution_count": 8,
   "metadata": {},
   "outputs": [],
   "source": [
    "#find out what is the type for weather\n",
    "#type(weather_response)"
   ]
  },
  {
   "cell_type": "code",
   "execution_count": 9,
   "metadata": {},
   "outputs": [
    {
     "data": {
      "text/plain": [
       "{'coord': {'lon': -120.46, 'lat': 34.64},\n",
       " 'weather': [{'id': 803,\n",
       "   'main': 'Clouds',\n",
       "   'description': 'broken clouds',\n",
       "   'icon': '04d'}],\n",
       " 'base': 'stations',\n",
       " 'main': {'temp': 290.26,\n",
       "  'pressure': 1020,\n",
       "  'humidity': 67,\n",
       "  'temp_min': 287.59,\n",
       "  'temp_max': 292.59},\n",
       " 'visibility': 16093,\n",
       " 'wind': {'speed': 6.2, 'deg': 270},\n",
       " 'clouds': {'all': 75},\n",
       " 'dt': 1553383347,\n",
       " 'sys': {'type': 1,\n",
       "  'id': 4558,\n",
       "  'message': 0.0065,\n",
       "  'country': 'US',\n",
       "  'sunrise': 1553349687,\n",
       "  'sunset': 1553393718},\n",
       " 'id': 5367788,\n",
       " 'name': 'Lompoc',\n",
       " 'cod': 200}"
      ]
     },
     "execution_count": 9,
     "metadata": {},
     "output_type": "execute_result"
    }
   ],
   "source": [
    "weather_response.json()"
   ]
  },
  {
   "cell_type": "code",
   "execution_count": 10,
   "metadata": {},
   "outputs": [],
   "source": [
    "# Range of latitudes and longitudes from city.py library\n",
    "lat_range = (-90, 90)\n",
    "lng_range = (-180, 180)  \n",
    "  "
   ]
  },
  {
   "cell_type": "code",
   "execution_count": 11,
   "metadata": {},
   "outputs": [],
   "source": [
    "  # List for holding lat_lngs and cities\n",
    "lat_lngs = []\n",
    "cities = []"
   ]
  },
  {
   "cell_type": "code",
   "execution_count": 12,
   "metadata": {},
   "outputs": [],
   "source": [
    "# Create a set of random lat and lng combinations\n",
    "lats = np.random.uniform(low=-90.000, high=90.000, size=1500)\n",
    "lngs = np.random.uniform(low=-180.000, high=180.000, size=1500)\n",
    "lat_lngs = zip(lats, lngs)\n",
    "# for lat_lng in lat_lngs:\n",
    "#     print(lat_lng)\n"
   ]
  },
  {
   "cell_type": "code",
   "execution_count": 13,
   "metadata": {},
   "outputs": [
    {
     "data": {
      "text/plain": [
       "614"
      ]
     },
     "execution_count": 13,
     "metadata": {},
     "output_type": "execute_result"
    }
   ],
   "source": [
    "# Identify nearest city for each lat, lng combination\n",
    "city_lat_lng =dict()\n",
    "for lat_lng in lat_lngs:\n",
    "    city = citipy.nearest_city(lat_lng[0], lat_lng[1]).city_name\n",
    "        \n",
    "    # If the city is unique, then add it to a our cities list\n",
    "    if city not in cities:\n",
    "        \n",
    "        \n",
    "        cities.append(city)\n",
    "       # city_lat_lng[city] = [lat_lng[0], lat_lng[1]]#this is an list that stores cityname and latlon\n",
    "\n",
    "# Print the city count to confirm sufficient count\n",
    "len(cities)\n"
   ]
  },
  {
   "cell_type": "code",
   "execution_count": 14,
   "metadata": {},
   "outputs": [],
   "source": [
    "weather_response_city = (weather_response.json()['name'])"
   ]
  },
  {
   "cell_type": "code",
   "execution_count": 15,
   "metadata": {},
   "outputs": [
    {
     "data": {
      "text/plain": [
       "'Lompoc'"
      ]
     },
     "execution_count": 15,
     "metadata": {},
     "output_type": "execute_result"
    }
   ],
   "source": [
    "weather_response_city"
   ]
  },
  {
   "cell_type": "code",
   "execution_count": 16,
   "metadata": {},
   "outputs": [
    {
     "name": "stdout",
     "output_type": "stream",
     "text": [
      "67\n"
     ]
    },
    {
     "data": {
      "text/plain": [
       "'torbay'"
      ]
     },
     "execution_count": 16,
     "metadata": {},
     "output_type": "execute_result"
    }
   ],
   "source": [
    "weather_response_humidity = (weather_response.json()['main'][\"humidity\"])\n",
    "print(weather_response_humidity)\n",
    "city"
   ]
  },
  {
   "cell_type": "code",
   "execution_count": 17,
   "metadata": {},
   "outputs": [
    {
     "name": "stdout",
     "output_type": "stream",
     "text": [
      "['korsakovo', 'nuuk', 'labuhan', 'chaman', 'leningradskiy', 'narrabri', 'charters towers', 'mataura', 'karratha', 'ayer itam']\n"
     ]
    }
   ],
   "source": [
    "print(cities[:10])"
   ]
  },
  {
   "cell_type": "code",
   "execution_count": 18,
   "metadata": {},
   "outputs": [
    {
     "name": "stdout",
     "output_type": "stream",
     "text": [
      "{}\n"
     ]
    }
   ],
   "source": [
    "#test weather data for a city in unique cities list -- if found return the humidity, name, \n",
    "if weather_response_humidity in cities[:10]:\n",
    "    city_lat_lng[weather_response_city]\n",
    "print(city_lat_lng)\n"
   ]
  },
  {
   "cell_type": "code",
   "execution_count": 19,
   "metadata": {
    "scrolled": true
   },
   "outputs": [
    {
     "name": "stdout",
     "output_type": "stream",
     "text": [
      "['korsakovo', 'nuuk', 'labuhan', 'chaman', 'leningradskiy', 'narrabri', 'charters towers', 'mataura', 'karratha', 'ayer itam', 'busselton', 'santa marta', 'ulaangom', 'yamada', 'ribeira grande', 'gamba', 'fort nelson', 'puerto ayora', 'butaritari', 'brae', 'shetpe', 'blackwater', 'illoqqortoormiut', 'kodiak', 'kirakira', 'belushya guba', 'abdulino', 'port-cartier', 'attawapiskat', 'sao filipe', 'rikitea', 'monywa', 'galesong', 'cape town', 'ahipara', 'rabo de peixe', 'kununurra', 'ushuaia', 'esso', 'tessalit', 'bredasdorp', 'bandarbeyla', 'beyneu', 'nalut', 'broken hill', 'safakulevo', 'hambantota', 'east london', 'barentsburg', 'saskylakh', 'cherskiy', 'airai', 'bengkulu', 'mwinilunga', 'belmonte', 'nalvo', 'samarai', 'albany', 'codrington', 'viligili', 'new norfolk', 'lincoln', 'oussouye', 'vao', 'fare', 'hovd', 'abha', 'bijar', 'christchurch', 'vaini', 'kapaa', 'port arthur', 'mackenzie', 'mys shmidta', 'tasiilaq', 'kargasok', 'lorengau', 'oranjemund', 'dunedin', 'luanda', 'rabaul', 'westport', 'santa maria', 'atuona', 'port elizabeth', 'saint-francois', 'ancud', 'sidi ali', 'margate', 'caravelas', 'haines junction', 'diego de almagro', 'alice springs', 'tsihombe', 'hasaki', 'solovetskiy', 'hobart', 'vaitupu', 'nikolskoye', 'mahebourg', 'sentyabrskiy', 'dikson', 'bytca', 'krasnovishersk', 'arraial do cabo', 'richards bay', 'nome', 'punta arenas', 'taolanaro', 'mangrol', 'ketchikan', 'san francisco del mar', 'ust-nera', 'lata', 'hun', 'bluff', 'longyearbyen', 'castro', 'coquimbo', 'vardo', 'ihiala', 'narsaq', 'kaohsiung', 'yellowknife', 'ilulissat', 'ponta do sol', 'launceston', 'naze', 'kedrovyy', 'sergeyevka', 'kuusamo', 'kusk', 'gwadar', 'alofi', 'havre-saint-pierre', 'hunterville', 'thompson', 'hawera', 'baracoa', 'puerto escondido', 'ayr', 'goba', 'hithadhoo', 'qaanaaq', 'hermanus', 'kuhestan', 'amga', 'talnakh', 'iralaya', 'eskasem', 'salinopolis', 'shelburne', 'puerto madryn', 'tezu', 'nguiu', 'dawson creek', 'port alfred', 'bargal', 'bathsheba', 'nizhneyansk', 'georgetown', 'hilo', 'tuatapere', 'ukiah', 'wilhelmshaven', 'barra do garcas', 'ust-kuyga', 'straubing', 'dashitou', 'chokurdakh', 'luganville', 'hihifo', 'bintulu', 'dingle', 'college', 'barrow', 'jamestown', 'kozhva', 'kaitangata', 'te anau', 'tuktoyaktuk', 'iqaluit', 'khristoforovo', 'sesheke', 'shihezi', 'kavieng', 'addi ugri', 'koumac', 'fort-shevchenko', 'urdzhar', 'talaya', 'portland', 'hualmay', 'souillac', 'olafsvik', 'rungata', 'chumikan', 'tabiauea', 'manavalakurichi', 'pisco', 'zarate', 'ambulu', 'avarua', 'faya', 'katherine', 'mehriz', 'dori', 'khed', 'kuche', 'qasigiannguit', 'bulungu', 'ous', 'horta', 'dryden', 'wahiawa', 'kalino', 'lebu', 'ljubimec', 'broome', 'pochutla', 'massa marittima', 'alotau', 'saleaula', 'saint-donat-de-montcalm', 'walvis bay', 'mitsamiouli', 'auki', 'norman wells', 'bethel', 'faanui', 'pemangkat', 'namibe', 'saint george', 'sao joao da barra', 'sitka', 'san quintin', 'kokologo', 'camacha', 'shenjiamen', 'la ronge', 'olhao', 'grand gaube', 'manadhoo', 'san patricio', 'jackson', 'barabai', 'santa cruz cabralia', 'birobidzhan', 'marzuq', 'marataizes', 'aksu', 'severodvinsk', 'udomlya', 'pangody', 'tongzi', 'sembakung', 'juneau', 'sagay', 'djibo', 'champerico', 'ahuimanu', 'victoria', 'santa rosa', 'pitimbu', 'mackay', 'kruisfontein', 'sorland', 'samusu', 'standerton', 'goderich', 'palabuhanratu', 'mar del plata', 'saint-philippe', 'upernavik', 'rio gallegos', 'kavaratti', 'viru', 'baherden', 'pandan', 'amderma', 'tal', 'vostok', 'acarau', 'naryan-mar', 'lar', 'taoudenni', 'touros', 'sao miguel do araguaia', 'vierzon', 'dharchula', 'jalu', 'sao jose da coroa grande', 'araceli', 'south sioux city', 'zaraza', 'samarkand', 'altonia', 'skjervoy', 'fortuna', 'kousseri', 'mehamn', 'biak', 'uthal', 'santa cruz de la palma', 'coihaique', 'stolin', 'khonuu', 'saint-joseph', 'kahului', 'kazalinsk', 'chapais', 'oranjestad', 'saryshagan', 'bereda', 'kudahuvadhoo', 'ekhabi', 'mao', 'liverpool', 'batagay-alyta', 'jaffrey', 'lumeje', 'raton', 'coahuayana', 'great yarmouth', 'syracuse', 'balaipungut', 'sinnamary', 'qui nhon', 'khatanga', 'grand river south east', 'san cristobal', 'chuy', 'cururupu', 'valladolid', 'egvekinot', 'kushima', 'tazovskiy', 'bell ville', 'aranos', 'lashio', 'cidreira', 'ifo', 'bubaque', 'kaseda', 'bouna', 'maniitsoq', 'porto novo', 'waipawa', 'campbell river', 'tutoia', 'boden', 'suntar', 'yulara', 'saint anthony', 'paita', 'yar-sale', 'san francisco', 'bilibino', 'sept-iles', 'chippewa falls', 'esperance', 'malacky', 'nador', 'singapore', 'kamenskoye', 'cabo san lucas', 'tingrela', 'warmbad', 'la paz', 'port moresby', 'rawlins', 'kamina', 'nola', 'san angelo', 'quatre cocos', 'aklavik', 'ugoofaaru', 'sohagpur', 'katsuura', 'oistins', 'port hardy', 'carnarvon', 'krasnoselkup', 'anadyr', 'pulgaon', 'puerto cabezas', 'turukhansk', 'virbalis', 'kyzyl', 'bonthe', 'zhezkazgan', 'severo-kurilsk', 'wakkanai', 'saldanha', 'leshukonskoye', 'paucartambo', 'mount isa', 'lompoc', 'turan', 'aksarka', 'umzimvubu', 'mount pleasant', 'kyren', 'sawtell', 'manaure', 'manokwari', 'tautira', 'vila velha', 'husavik', 'dongsheng', 'wahran', 'bajil', 'ferkessedougou', 'hofn', 'male', 'vossevangen', 'northam', 'norden', 'san andres', 'nemuro', 'mount gambier', 'yaan', 'inirida', 'mount vernon', 'palauig', 'dukat', 'constitucion', 'jiwani', 'najran', 'langarud', 'geraldton', 'alikovo', 'lichuan', 'truckee', 'santa cruz', 'henties bay', 'cap malheureux', 'pevek', 'mlonggo', 'nsanje', 'biloela', 'balkhash', 'yumen', 'mering', 'padang', 'lianran', 'lagos', 'poselki', 'puro', 'kaliua', 'labytnangi', 'provideniya', 'tahta', 'cleburne', 'labuan', 'porto walter', 'mahibadhoo', 'muroto', 'santa isabel do rio negro', 'torbay', 'nouadhibou', 'puerto del rosario', 'dolores', 'marcona', 'port hedland', 'warqla', 'weligama', 'praia da vitoria', 'richland', 'hokitika', 'guiratinga', 'hamilton', 'les escoumins', 'oriximina', 'yichang', 'bambous virieux', 'luderitz', 'nanortalik', 'tiksi', 'mayumba', 'marsh harbour', 'naantali', 'port augusta', 'vanimo', 'nova olimpia', 'mahajanga', 'soe', 'lebedinyy', 'shache', 'conceicao do araguaia', 'roros', 'adrar', 'kiama', 'fairbanks', 'meulaboh', 'beloha', 'pimentel', 'channel-port aux basques', 'segezha', 'dwarka', 'nantucket', 'darab', 'linares', 'port blair', 'corinto', 'ossora', 'bacuit', 'clyde river', 'marsa matruh', 'necochea', 'khani', 'jumla', 'nisia floresta', 'sokolo', 'sisimiut', 'birjand', 'sokoni', 'kirkuk', 'billings', 'turinskaya sloboda', 'san francisco de becerra', 'xichang', 'dombarovskiy', 'mendeleyevsk', 'frederico westphalen', 'vestmanna', 'carahue', 'upington', 'krivodol', 'golden', 'parambu', 'belogorsk', 'cayenne', 'araouane', 'pinawa', 'guerrero negro', 'hohhot', 'bolotnoye', 'tual', 'khasan', 'biscarrosse', 'valente', 'jiuquan', 'salalah', 'san ciro de acosta', 'borogontsy', 'mandalgovi', 'booue', 'galiwinku', 'la primavera', 'tigil', 'ponerihouen', 'devonport', 'klaksvik', 'tilichiki', 'zeya', 'yilan', 'vila franca do campo', 'harper', 'kilcormac', 'mingyue', 'kang', 'tevriz', 'deputatskiy', 'ilhabela', 'umm durman', 'tara', 'nandurbar', 'wanning', 'san lazaro', 'cuicatlan', 'kloulklubed', 'simpang', 'uporovo', 'isangel', 'gaspe', 'piranshahr', 'duncan', 'berlevag', 'aztec', 'ermelo', 'banda aceh', 'laguna', 'gat', 'north bend', 'lolua', 'swidnik', 'tura', 'gunnedah', 'inhambane', 'bontang', 'buribay', 'shingu', 'grand-lahou', 'coolum beach', 'zharkent', 'karak', 'los llanos de aridane', 'lewisporte', 'baculin', 'maragogi', 'grao mogol', 'aykhal', 'venezuela', 'ust-maya', 'cibeureum', 'nizwa', 'severo-yeniseyskiy', 'tellin', 'port lincoln', 'baringo', 'pingliang', 'san jose', 'korla']\n"
     ]
    }
   ],
   "source": [
    "print(cities)"
   ]
  },
  {
   "cell_type": "code",
   "execution_count": 20,
   "metadata": {},
   "outputs": [
    {
     "data": {
      "text/plain": [
       "614"
      ]
     },
     "execution_count": 20,
     "metadata": {},
     "output_type": "execute_result"
    }
   ],
   "source": [
    "#cities[0].head()\n",
    "len(cities)"
   ]
  },
  {
   "cell_type": "code",
   "execution_count": 21,
   "metadata": {},
   "outputs": [],
   "source": [
    "weather_df = pd.DataFrame(columns=[\"City\",\"Cloudiness\",\"Country\",\"Date\",\"Humidity\",\"Lat\",\"Lng\",\"Max_Temp\",\"Wind_Speed\"])\n"
   ]
  },
  {
   "cell_type": "code",
   "execution_count": null,
   "metadata": {},
   "outputs": [],
   "source": [
    "\n",
    "for cityname in cities:\n",
    "\n",
    "    print(cityname)\n",
    "\n",
    "    try:\n",
    "        #var=requests.get(\"https://api.openweathermap.org/data/2.5/weather\",params={\"lat\":lat,\"lon\":lon,\"appid\":api_key}).json()\n",
    "        var=requests.get(f\"https://api.openweathermap.org/data/2.5/weather?q={cityname}&appid={api_key}\").json()\n",
    "\n",
    "        #         #cityn = var[\"name\"]\n",
    "        if cityname:\n",
    "            cityn = cityname\n",
    "       # print('City':cityn)\n",
    "        if clouds:\n",
    "            clouds = [\"clouds\"][\"all\"]\n",
    "       # print('Cloudiness':clouds)\n",
    "        if country:\n",
    "            country =var[\"sys\"][\"country\"]\n",
    "        #print(\"Country\":country)\n",
    "        if date:\n",
    "            date = var[\"dt\"]#print#('check1')\n",
    "       # print(\"Date\":date)#('check1')\n",
    "# #         #date =(((date/60)/60)/24)+DATE(1970,1,1)\n",
    "        if humidity:\n",
    "              humidity = var[\"main\"][\"humidity\"]\n",
    "       # print(\"Humidity\":humidity)\n",
    "        if lat:     \n",
    "             lat = var[\"coord\"][\"lat\"]\n",
    "        #print(\"Lat\":lat)\n",
    "        if lon: \n",
    "            long = var[\"coord\"][\"lon\"]\n",
    "        #print(\"Lng:long\")\n",
    "        if maxtemp:     \n",
    "            maxtemp = var[\"main\"][\"temp_max\"]\n",
    "       # print(\"Max_Temp\":maxtemp)\n",
    "#         #maxtemp= maxtemp * (9/5)+32\n",
    "        if windspeed:\n",
    "        windspeed = var[\"wind\"][\"speed\"]\n",
    "        #print(\"Wind_Speed\":windspeed)\n",
    "#     #windspeed = windspeed / (0.44704)\n",
    "# #this is the process that takes the variables from the jason and associates them to the dataframe                                      \n",
    "        Values_dict = {\"City\":cityn,\"Cloudiness\":clouds,\"Country\":country,\"Date\":date,\"Humidity\":humidity,\"Lat\":lat,\"Lng\":long,\"Max_Temp\":maxtemp,\"Wind_Speed\":windspeed}   \n",
    "        #print('check3')\n",
    "        if cityn:\n",
    "           # print('check4')\n",
    "            weather_df = weather_df.append(Values_dict, ignore_index = True)\n",
    "           # print('check5')\n",
    "#             print(weather_df)\n",
    "    except:\n",
    "        print(\"I have a problem\")\n",
    "#break\n",
    "#weather_df.head(20)"
   ]
  },
  {
   "cell_type": "code",
   "execution_count": 23,
   "metadata": {},
   "outputs": [],
   "source": [
    "# var=requests.get(f\"https://api.openweathermap.org/data/2.5/weather?q=London&appid={api_key}\").json()\n",
    "# print (var)"
   ]
  },
  {
   "cell_type": "code",
   "execution_count": 29,
   "metadata": {},
   "outputs": [
    {
     "data": {
      "text/html": [
       "<div>\n",
       "<style scoped>\n",
       "    .dataframe tbody tr th:only-of-type {\n",
       "        vertical-align: middle;\n",
       "    }\n",
       "\n",
       "    .dataframe tbody tr th {\n",
       "        vertical-align: top;\n",
       "    }\n",
       "\n",
       "    .dataframe thead th {\n",
       "        text-align: right;\n",
       "    }\n",
       "</style>\n",
       "<table border=\"1\" class=\"dataframe\">\n",
       "  <thead>\n",
       "    <tr style=\"text-align: right;\">\n",
       "      <th></th>\n",
       "      <th>City</th>\n",
       "      <th>Cloudiness</th>\n",
       "      <th>Country</th>\n",
       "      <th>Date</th>\n",
       "      <th>Humidity</th>\n",
       "      <th>Lat</th>\n",
       "      <th>Lng</th>\n",
       "      <th>Max_Temp</th>\n",
       "      <th>Wind_Speed</th>\n",
       "    </tr>\n",
       "  </thead>\n",
       "  <tbody>\n",
       "    <tr>\n",
       "      <th>0</th>\n",
       "      <td>labuhan</td>\n",
       "      <td>8</td>\n",
       "      <td>ID</td>\n",
       "      <td>1553368003</td>\n",
       "      <td>96</td>\n",
       "      <td>-2.54</td>\n",
       "      <td>115.51</td>\n",
       "      <td>295.842</td>\n",
       "      <td>0.87</td>\n",
       "    </tr>\n",
       "    <tr>\n",
       "      <th>1</th>\n",
       "      <td>hermanus</td>\n",
       "      <td>64</td>\n",
       "      <td>ZA</td>\n",
       "      <td>1553367673</td>\n",
       "      <td>85</td>\n",
       "      <td>-34.42</td>\n",
       "      <td>19.24</td>\n",
       "      <td>294.820</td>\n",
       "      <td>1.62</td>\n",
       "    </tr>\n",
       "    <tr>\n",
       "      <th>2</th>\n",
       "      <td>carnarvon</td>\n",
       "      <td>92</td>\n",
       "      <td>ZA</td>\n",
       "      <td>1553367896</td>\n",
       "      <td>16</td>\n",
       "      <td>-30.97</td>\n",
       "      <td>22.13</td>\n",
       "      <td>299.092</td>\n",
       "      <td>3.32</td>\n",
       "    </tr>\n",
       "    <tr>\n",
       "      <th>3</th>\n",
       "      <td>tuktoyaktuk</td>\n",
       "      <td>90</td>\n",
       "      <td>CA</td>\n",
       "      <td>1553364000</td>\n",
       "      <td>71</td>\n",
       "      <td>69.44</td>\n",
       "      <td>-133.03</td>\n",
       "      <td>260.150</td>\n",
       "      <td>10.30</td>\n",
       "    </tr>\n",
       "    <tr>\n",
       "      <th>4</th>\n",
       "      <td>punta arenas</td>\n",
       "      <td>20</td>\n",
       "      <td>CL</td>\n",
       "      <td>1553367192</td>\n",
       "      <td>71</td>\n",
       "      <td>-53.16</td>\n",
       "      <td>-70.91</td>\n",
       "      <td>286.150</td>\n",
       "      <td>3.60</td>\n",
       "    </tr>\n",
       "    <tr>\n",
       "      <th>5</th>\n",
       "      <td>noumea</td>\n",
       "      <td>44</td>\n",
       "      <td>NC</td>\n",
       "      <td>1553365800</td>\n",
       "      <td>88</td>\n",
       "      <td>-22.28</td>\n",
       "      <td>166.46</td>\n",
       "      <td>295.150</td>\n",
       "      <td>2.72</td>\n",
       "    </tr>\n",
       "    <tr>\n",
       "      <th>6</th>\n",
       "      <td>jamestown</td>\n",
       "      <td>92</td>\n",
       "      <td>AU</td>\n",
       "      <td>1553367861</td>\n",
       "      <td>93</td>\n",
       "      <td>-33.21</td>\n",
       "      <td>138.60</td>\n",
       "      <td>290.492</td>\n",
       "      <td>3.47</td>\n",
       "    </tr>\n",
       "    <tr>\n",
       "      <th>7</th>\n",
       "      <td>iqaluit</td>\n",
       "      <td>90</td>\n",
       "      <td>CA</td>\n",
       "      <td>1553367768</td>\n",
       "      <td>77</td>\n",
       "      <td>63.75</td>\n",
       "      <td>-68.52</td>\n",
       "      <td>259.150</td>\n",
       "      <td>14.40</td>\n",
       "    </tr>\n",
       "    <tr>\n",
       "      <th>8</th>\n",
       "      <td>pevek</td>\n",
       "      <td>0</td>\n",
       "      <td>RU</td>\n",
       "      <td>1553368227</td>\n",
       "      <td>35</td>\n",
       "      <td>69.70</td>\n",
       "      <td>170.27</td>\n",
       "      <td>242.242</td>\n",
       "      <td>1.52</td>\n",
       "    </tr>\n",
       "    <tr>\n",
       "      <th>9</th>\n",
       "      <td>aden</td>\n",
       "      <td>20</td>\n",
       "      <td>YE</td>\n",
       "      <td>1553368115</td>\n",
       "      <td>95</td>\n",
       "      <td>12.79</td>\n",
       "      <td>45.03</td>\n",
       "      <td>299.842</td>\n",
       "      <td>8.62</td>\n",
       "    </tr>\n",
       "    <tr>\n",
       "      <th>10</th>\n",
       "      <td>cape town</td>\n",
       "      <td>0</td>\n",
       "      <td>ZA</td>\n",
       "      <td>1553367918</td>\n",
       "      <td>82</td>\n",
       "      <td>-33.93</td>\n",
       "      <td>18.42</td>\n",
       "      <td>294.820</td>\n",
       "      <td>4.10</td>\n",
       "    </tr>\n",
       "    <tr>\n",
       "      <th>11</th>\n",
       "      <td>mataura</td>\n",
       "      <td>64</td>\n",
       "      <td>NZ</td>\n",
       "      <td>1553367609</td>\n",
       "      <td>90</td>\n",
       "      <td>-46.19</td>\n",
       "      <td>168.86</td>\n",
       "      <td>287.040</td>\n",
       "      <td>1.22</td>\n",
       "    </tr>\n",
       "    <tr>\n",
       "      <th>12</th>\n",
       "      <td>albany</td>\n",
       "      <td>1</td>\n",
       "      <td>US</td>\n",
       "      <td>1553368099</td>\n",
       "      <td>58</td>\n",
       "      <td>42.65</td>\n",
       "      <td>-73.75</td>\n",
       "      <td>278.150</td>\n",
       "      <td>10.30</td>\n",
       "    </tr>\n",
       "    <tr>\n",
       "      <th>13</th>\n",
       "      <td>katsuura</td>\n",
       "      <td>75</td>\n",
       "      <td>JP</td>\n",
       "      <td>1553364000</td>\n",
       "      <td>93</td>\n",
       "      <td>33.93</td>\n",
       "      <td>134.50</td>\n",
       "      <td>276.150</td>\n",
       "      <td>2.60</td>\n",
       "    </tr>\n",
       "    <tr>\n",
       "      <th>14</th>\n",
       "      <td>lasa</td>\n",
       "      <td>20</td>\n",
       "      <td>CY</td>\n",
       "      <td>1553367686</td>\n",
       "      <td>87</td>\n",
       "      <td>34.92</td>\n",
       "      <td>32.53</td>\n",
       "      <td>289.150</td>\n",
       "      <td>3.10</td>\n",
       "    </tr>\n",
       "    <tr>\n",
       "      <th>15</th>\n",
       "      <td>faanui</td>\n",
       "      <td>44</td>\n",
       "      <td>PF</td>\n",
       "      <td>1553368271</td>\n",
       "      <td>100</td>\n",
       "      <td>-16.48</td>\n",
       "      <td>-151.75</td>\n",
       "      <td>301.742</td>\n",
       "      <td>4.57</td>\n",
       "    </tr>\n",
       "    <tr>\n",
       "      <th>16</th>\n",
       "      <td>mantua</td>\n",
       "      <td>0</td>\n",
       "      <td>IT</td>\n",
       "      <td>1553368265</td>\n",
       "      <td>41</td>\n",
       "      <td>45.16</td>\n",
       "      <td>10.79</td>\n",
       "      <td>291.150</td>\n",
       "      <td>1.50</td>\n",
       "    </tr>\n",
       "    <tr>\n",
       "      <th>17</th>\n",
       "      <td>goba</td>\n",
       "      <td>0</td>\n",
       "      <td>ET</td>\n",
       "      <td>1553368272</td>\n",
       "      <td>44</td>\n",
       "      <td>7.01</td>\n",
       "      <td>39.97</td>\n",
       "      <td>287.292</td>\n",
       "      <td>2.52</td>\n",
       "    </tr>\n",
       "    <tr>\n",
       "      <th>18</th>\n",
       "      <td>saskylakh</td>\n",
       "      <td>0</td>\n",
       "      <td>RU</td>\n",
       "      <td>1553368273</td>\n",
       "      <td>33</td>\n",
       "      <td>71.97</td>\n",
       "      <td>114.09</td>\n",
       "      <td>242.592</td>\n",
       "      <td>1.52</td>\n",
       "    </tr>\n",
       "    <tr>\n",
       "      <th>19</th>\n",
       "      <td>duldurga</td>\n",
       "      <td>36</td>\n",
       "      <td>RU</td>\n",
       "      <td>1553368273</td>\n",
       "      <td>49</td>\n",
       "      <td>50.67</td>\n",
       "      <td>113.59</td>\n",
       "      <td>271.192</td>\n",
       "      <td>4.77</td>\n",
       "    </tr>\n",
       "    <tr>\n",
       "      <th>20</th>\n",
       "      <td>ponta do sol</td>\n",
       "      <td>36</td>\n",
       "      <td>BR</td>\n",
       "      <td>1553368271</td>\n",
       "      <td>79</td>\n",
       "      <td>-20.63</td>\n",
       "      <td>-46.00</td>\n",
       "      <td>298.642</td>\n",
       "      <td>2.32</td>\n",
       "    </tr>\n",
       "    <tr>\n",
       "      <th>21</th>\n",
       "      <td>liverpool</td>\n",
       "      <td>0</td>\n",
       "      <td>GB</td>\n",
       "      <td>1553368273</td>\n",
       "      <td>77</td>\n",
       "      <td>53.41</td>\n",
       "      <td>-2.98</td>\n",
       "      <td>281.150</td>\n",
       "      <td>2.60</td>\n",
       "    </tr>\n",
       "    <tr>\n",
       "      <th>22</th>\n",
       "      <td>sao joao da barra</td>\n",
       "      <td>75</td>\n",
       "      <td>BR</td>\n",
       "      <td>1553364000</td>\n",
       "      <td>54</td>\n",
       "      <td>-21.64</td>\n",
       "      <td>-41.05</td>\n",
       "      <td>302.150</td>\n",
       "      <td>3.10</td>\n",
       "    </tr>\n",
       "    <tr>\n",
       "      <th>23</th>\n",
       "      <td>rikitea</td>\n",
       "      <td>32</td>\n",
       "      <td>PF</td>\n",
       "      <td>1553368097</td>\n",
       "      <td>98</td>\n",
       "      <td>-23.12</td>\n",
       "      <td>-134.97</td>\n",
       "      <td>299.442</td>\n",
       "      <td>8.47</td>\n",
       "    </tr>\n",
       "    <tr>\n",
       "      <th>24</th>\n",
       "      <td>deputatskiy</td>\n",
       "      <td>0</td>\n",
       "      <td>RU</td>\n",
       "      <td>1553368275</td>\n",
       "      <td>0</td>\n",
       "      <td>69.30</td>\n",
       "      <td>139.90</td>\n",
       "      <td>237.942</td>\n",
       "      <td>1.17</td>\n",
       "    </tr>\n",
       "    <tr>\n",
       "      <th>25</th>\n",
       "      <td>grindavik</td>\n",
       "      <td>75</td>\n",
       "      <td>IS</td>\n",
       "      <td>1553367701</td>\n",
       "      <td>100</td>\n",
       "      <td>63.84</td>\n",
       "      <td>-22.43</td>\n",
       "      <td>275.930</td>\n",
       "      <td>5.10</td>\n",
       "    </tr>\n",
       "    <tr>\n",
       "      <th>26</th>\n",
       "      <td>ushuaia</td>\n",
       "      <td>40</td>\n",
       "      <td>AR</td>\n",
       "      <td>1553364000</td>\n",
       "      <td>71</td>\n",
       "      <td>-54.81</td>\n",
       "      <td>-68.31</td>\n",
       "      <td>286.150</td>\n",
       "      <td>2.60</td>\n",
       "    </tr>\n",
       "    <tr>\n",
       "      <th>27</th>\n",
       "      <td>tessalit</td>\n",
       "      <td>80</td>\n",
       "      <td>ML</td>\n",
       "      <td>1553368276</td>\n",
       "      <td>11</td>\n",
       "      <td>20.20</td>\n",
       "      <td>1.01</td>\n",
       "      <td>299.642</td>\n",
       "      <td>3.62</td>\n",
       "    </tr>\n",
       "    <tr>\n",
       "      <th>28</th>\n",
       "      <td>slave lake</td>\n",
       "      <td>1</td>\n",
       "      <td>CA</td>\n",
       "      <td>1553364000</td>\n",
       "      <td>45</td>\n",
       "      <td>55.28</td>\n",
       "      <td>-114.77</td>\n",
       "      <td>282.150</td>\n",
       "      <td>4.10</td>\n",
       "    </tr>\n",
       "    <tr>\n",
       "      <th>29</th>\n",
       "      <td>new norfolk</td>\n",
       "      <td>75</td>\n",
       "      <td>AU</td>\n",
       "      <td>1553368274</td>\n",
       "      <td>63</td>\n",
       "      <td>-42.78</td>\n",
       "      <td>147.06</td>\n",
       "      <td>291.150</td>\n",
       "      <td>0.50</td>\n",
       "    </tr>\n",
       "  </tbody>\n",
       "</table>\n",
       "</div>"
      ],
      "text/plain": [
       "                 City Cloudiness Country        Date Humidity    Lat     Lng  \\\n",
       "0             labuhan          8      ID  1553368003       96  -2.54  115.51   \n",
       "1            hermanus         64      ZA  1553367673       85 -34.42   19.24   \n",
       "2           carnarvon         92      ZA  1553367896       16 -30.97   22.13   \n",
       "3         tuktoyaktuk         90      CA  1553364000       71  69.44 -133.03   \n",
       "4        punta arenas         20      CL  1553367192       71 -53.16  -70.91   \n",
       "5              noumea         44      NC  1553365800       88 -22.28  166.46   \n",
       "6           jamestown         92      AU  1553367861       93 -33.21  138.60   \n",
       "7             iqaluit         90      CA  1553367768       77  63.75  -68.52   \n",
       "8               pevek          0      RU  1553368227       35  69.70  170.27   \n",
       "9                aden         20      YE  1553368115       95  12.79   45.03   \n",
       "10          cape town          0      ZA  1553367918       82 -33.93   18.42   \n",
       "11            mataura         64      NZ  1553367609       90 -46.19  168.86   \n",
       "12             albany          1      US  1553368099       58  42.65  -73.75   \n",
       "13           katsuura         75      JP  1553364000       93  33.93  134.50   \n",
       "14               lasa         20      CY  1553367686       87  34.92   32.53   \n",
       "15             faanui         44      PF  1553368271      100 -16.48 -151.75   \n",
       "16             mantua          0      IT  1553368265       41  45.16   10.79   \n",
       "17               goba          0      ET  1553368272       44   7.01   39.97   \n",
       "18          saskylakh          0      RU  1553368273       33  71.97  114.09   \n",
       "19           duldurga         36      RU  1553368273       49  50.67  113.59   \n",
       "20       ponta do sol         36      BR  1553368271       79 -20.63  -46.00   \n",
       "21          liverpool          0      GB  1553368273       77  53.41   -2.98   \n",
       "22  sao joao da barra         75      BR  1553364000       54 -21.64  -41.05   \n",
       "23            rikitea         32      PF  1553368097       98 -23.12 -134.97   \n",
       "24        deputatskiy          0      RU  1553368275        0  69.30  139.90   \n",
       "25          grindavik         75      IS  1553367701      100  63.84  -22.43   \n",
       "26            ushuaia         40      AR  1553364000       71 -54.81  -68.31   \n",
       "27           tessalit         80      ML  1553368276       11  20.20    1.01   \n",
       "28         slave lake          1      CA  1553364000       45  55.28 -114.77   \n",
       "29        new norfolk         75      AU  1553368274       63 -42.78  147.06   \n",
       "\n",
       "    Max_Temp  Wind_Speed  \n",
       "0    295.842        0.87  \n",
       "1    294.820        1.62  \n",
       "2    299.092        3.32  \n",
       "3    260.150       10.30  \n",
       "4    286.150        3.60  \n",
       "5    295.150        2.72  \n",
       "6    290.492        3.47  \n",
       "7    259.150       14.40  \n",
       "8    242.242        1.52  \n",
       "9    299.842        8.62  \n",
       "10   294.820        4.10  \n",
       "11   287.040        1.22  \n",
       "12   278.150       10.30  \n",
       "13   276.150        2.60  \n",
       "14   289.150        3.10  \n",
       "15   301.742        4.57  \n",
       "16   291.150        1.50  \n",
       "17   287.292        2.52  \n",
       "18   242.592        1.52  \n",
       "19   271.192        4.77  \n",
       "20   298.642        2.32  \n",
       "21   281.150        2.60  \n",
       "22   302.150        3.10  \n",
       "23   299.442        8.47  \n",
       "24   237.942        1.17  \n",
       "25   275.930        5.10  \n",
       "26   286.150        2.60  \n",
       "27   299.642        3.62  \n",
       "28   282.150        4.10  \n",
       "29   291.150        0.50  "
      ]
     },
     "execution_count": 29,
     "metadata": {},
     "output_type": "execute_result"
    }
   ],
   "source": [
    "weather_df.head(30)"
   ]
  },
  {
   "cell_type": "code",
   "execution_count": null,
   "metadata": {},
   "outputs": [],
   "source": []
  }
 ],
 "metadata": {
  "kernelspec": {
   "display_name": "Python 3",
   "language": "python",
   "name": "python3"
  },
  "language_info": {
   "codemirror_mode": {
    "name": "ipython",
    "version": 3
   },
   "file_extension": ".py",
   "mimetype": "text/x-python",
   "name": "python",
   "nbconvert_exporter": "python",
   "pygments_lexer": "ipython3",
   "version": "3.7.1"
  }
 },
 "nbformat": 4,
 "nbformat_minor": 2
}
