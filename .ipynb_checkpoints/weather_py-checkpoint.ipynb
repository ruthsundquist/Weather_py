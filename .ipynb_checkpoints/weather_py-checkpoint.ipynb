{
 "cells": [
  {
   "cell_type": "code",
   "execution_count": 1,
   "metadata": {},
   "outputs": [],
   "source": [
    "# Dependencies and Setup\n",
    "import matplotlib.pyplot as plt\n",
    "%matplotlib inline\n",
    "import pandas as pd\n",
    "import numpy as np\n",
    "import requests\n",
    "import time"
   ]
  },
  {
   "cell_type": "code",
   "execution_count": 2,
   "metadata": {},
   "outputs": [
    {
     "name": "stdout",
     "output_type": "stream",
     "text": [
      "<class 'str'>\n"
     ]
    }
   ],
   "source": [
    "# Import API key\n",
    "from api_key import api_key\n",
    "print(type(api_key))"
   ]
  },
  {
   "cell_type": "code",
   "execution_count": 3,
   "metadata": {},
   "outputs": [],
   "source": [
    "# Incorporated citipy to determine city based on latitude and longitude\n",
    "from citipy import citipy"
   ]
  },
  {
   "cell_type": "code",
   "execution_count": 4,
   "metadata": {},
   "outputs": [
    {
     "data": {
      "text/plain": [
       "46833"
      ]
     },
     "execution_count": 4,
     "metadata": {},
     "output_type": "execute_result"
    }
   ],
   "source": [
    "#tell me about citipy\n",
    "citipy.cities.line_num\n",
    "\n"
   ]
  },
  {
   "cell_type": "code",
   "execution_count": 5,
   "metadata": {},
   "outputs": [],
   "source": [
    "# Output File (CSV)\n",
    "output_data_path = \"output_data/cities.csv\""
   ]
  },
  {
   "cell_type": "code",
   "execution_count": 6,
   "metadata": {},
   "outputs": [],
   "source": [
    "lat= 34.64\n",
    "lon= -120.46"
   ]
  },
  {
   "cell_type": "code",
   "execution_count": 7,
   "metadata": {},
   "outputs": [],
   "source": [
    "weather_response =requests.get (f\"https://api.openweathermap.org/data/2.5/weather?lat={lat}&lon={lon}&appid={api_key}\")"
   ]
  },
  {
   "cell_type": "code",
   "execution_count": 8,
   "metadata": {},
   "outputs": [],
   "source": [
    "#find out what is the type for weather\n",
    "#type(weather_response)"
   ]
  },
  {
   "cell_type": "code",
   "execution_count": 9,
   "metadata": {},
   "outputs": [
    {
     "data": {
      "text/plain": [
       "{'coord': {'lon': -120.46, 'lat': 34.64},\n",
       " 'weather': [{'id': 803,\n",
       "   'main': 'Clouds',\n",
       "   'description': 'broken clouds',\n",
       "   'icon': '04d'}],\n",
       " 'base': 'stations',\n",
       " 'main': {'temp': 290.26,\n",
       "  'pressure': 1020,\n",
       "  'humidity': 67,\n",
       "  'temp_min': 287.59,\n",
       "  'temp_max': 292.59},\n",
       " 'visibility': 16093,\n",
       " 'wind': {'speed': 6.2, 'deg': 270},\n",
       " 'clouds': {'all': 75},\n",
       " 'dt': 1553383347,\n",
       " 'sys': {'type': 1,\n",
       "  'id': 4558,\n",
       "  'message': 0.0065,\n",
       "  'country': 'US',\n",
       "  'sunrise': 1553349687,\n",
       "  'sunset': 1553393718},\n",
       " 'id': 5367788,\n",
       " 'name': 'Lompoc',\n",
       " 'cod': 200}"
      ]
     },
     "execution_count": 9,
     "metadata": {},
     "output_type": "execute_result"
    }
   ],
   "source": [
    "weather_response.json()"
   ]
  },
  {
   "cell_type": "code",
   "execution_count": 10,
   "metadata": {},
   "outputs": [],
   "source": [
    "# Range of latitudes and longitudes from city.py library\n",
    "lat_range = (-90, 90)\n",
    "lng_range = (-180, 180)  \n",
    "  "
   ]
  },
  {
   "cell_type": "code",
   "execution_count": 11,
   "metadata": {},
   "outputs": [],
   "source": [
    "  # List for holding lat_lngs and cities\n",
    "lat_lngs = []\n",
    "cities = []"
   ]
  },
  {
   "cell_type": "code",
   "execution_count": 12,
   "metadata": {},
   "outputs": [],
   "source": [
    "# Create a set of random lat and lng combinations\n",
    "lats = np.random.uniform(low=-90.000, high=90.000, size=1500)\n",
    "lngs = np.random.uniform(low=-180.000, high=180.000, size=1500)\n",
    "lat_lngs = zip(lats, lngs)\n",
    "# for lat_lng in lat_lngs:\n",
    "#     print(lat_lng)\n"
   ]
  },
  {
   "cell_type": "code",
   "execution_count": 13,
   "metadata": {},
   "outputs": [
    {
     "data": {
      "text/plain": [
       "612"
      ]
     },
     "execution_count": 13,
     "metadata": {},
     "output_type": "execute_result"
    }
   ],
   "source": [
    "# Identify nearest city for each lat, lng combination\n",
    "city_lat_lng =dict()\n",
    "for lat_lng in lat_lngs:\n",
    "    city = citipy.nearest_city(lat_lng[0], lat_lng[1]).city_name\n",
    "        \n",
    "    # If the city is unique, then add it to a our cities list\n",
    "    if city not in cities:\n",
    "        \n",
    "        \n",
    "        cities.append(city)\n",
    "       # city_lat_lng[city] = [lat_lng[0], lat_lng[1]]#this is an list that stores cityname and latlon\n",
    "\n",
    "# Print the city count to confirm sufficient count\n",
    "len(cities)\n"
   ]
  },
  {
   "cell_type": "code",
   "execution_count": 14,
   "metadata": {},
   "outputs": [],
   "source": [
    "weather_response_city = (weather_response.json()['name'])"
   ]
  },
  {
   "cell_type": "code",
   "execution_count": 15,
   "metadata": {},
   "outputs": [
    {
     "data": {
      "text/plain": [
       "'Lompoc'"
      ]
     },
     "execution_count": 15,
     "metadata": {},
     "output_type": "execute_result"
    }
   ],
   "source": [
    "weather_response_city"
   ]
  },
  {
   "cell_type": "code",
   "execution_count": 16,
   "metadata": {},
   "outputs": [
    {
     "name": "stdout",
     "output_type": "stream",
     "text": [
      "67\n"
     ]
    },
    {
     "data": {
      "text/plain": [
       "'busselton'"
      ]
     },
     "execution_count": 16,
     "metadata": {},
     "output_type": "execute_result"
    }
   ],
   "source": [
    "weather_response_humidity = (weather_response.json()['main'][\"humidity\"])\n",
    "print(weather_response_humidity)\n",
    "city"
   ]
  },
  {
   "cell_type": "code",
   "execution_count": 17,
   "metadata": {},
   "outputs": [
    {
     "name": "stdout",
     "output_type": "stream",
     "text": [
      "['marienburg', 'busselton', 'rikitea', 'alyangula', 'sentyabrskiy', 'dunedin', 'esso', 'ushuaia', 'cape town', 'avarua']\n"
     ]
    }
   ],
   "source": [
    "print(cities[:10])"
   ]
  },
  {
   "cell_type": "code",
   "execution_count": 18,
   "metadata": {},
   "outputs": [
    {
     "name": "stdout",
     "output_type": "stream",
     "text": [
      "{}\n"
     ]
    }
   ],
   "source": [
    "#test weather data for a city in unique cities list -- if found return the humidity, name, \n",
    "if weather_response_humidity in cities[:10]:\n",
    "    city_lat_lng[weather_response_city]\n",
    "print(city_lat_lng)\n"
   ]
  },
  {
   "cell_type": "code",
   "execution_count": 19,
   "metadata": {
    "scrolled": true
   },
   "outputs": [
    {
     "name": "stdout",
     "output_type": "stream",
     "text": [
      "['marienburg', 'busselton', 'rikitea', 'alyangula', 'sentyabrskiy', 'dunedin', 'esso', 'ushuaia', 'cape town', 'avarua', 'mys shmidta', 'saint-augustin', 'punta arenas', 'tucuman', 'faanui', 'hofn', 'dodge city', 'san vicente', 'hobart', 'bengkulu', 'byron bay', 'viile satu mare', 'taolanaro', 'oranjestad', 'mataura', 'klaksvik', 'fasa', 'albany', 'georgetown', 'la ronge', 'varna', 'obama', 'santa isabel do rio negro', 'saint-philippe', 'huarmey', 'butaritari', 'dalvik', 'alice springs', 'farah', 'vrangel', 'vaini', 'gazli', 'ballina', 'cabo san lucas', 'lahaina', 'port alfred', 'bredasdorp', 'mar del plata', 'eydhafushi', 'jamestown', 'idrija', 'cordoba', 'bethel', 'tasbuget', 'hilo', 'pevek', 'ponta do sol', 'iracoubo', 'rio grande', 'pangnirtung', 'nanakuli', 'margate', 'chuy', 'amberley', 'lebu', 'airai', 'poum', 'udimskiy', 'vila velha', 'manavalakurichi', 'nkayi', 'atuona', 'hithadhoo', 'ayer itam', 'tarakan', 'salinopolis', 'qaanaaq', 'forestville', 'toba', 'nizhneyansk', 'hermanus', 'shimoda', 'bluff', 'boundiali', 'ribas do rio pardo', 'puerto ayora', 'barentsburg', 'illoqqortoormiut', 'nikolskoye', 'upernavik', 'saint-pierre', 'kavieng', 'attawapiskat', 'port hardy', 'thompson', 'chumikan', 'kamenskoye', 'yellowknife', 'carnarvon', 'spokane', 'saskylakh', 'sioux lookout', 'belushya guba', 'phalaborwa', 'masterton', 'azimur', 'souillac', 'khatanga', 'haines junction', 'vestmannaeyjar', 'saint-georges', 'the valley', 'iralaya', 'dikson', 'vysokogornyy', 'polovinnoye', 'tiksi', 'arraial do cabo', 'khonuu', 'ribeira grande', 'guerrero negro', 'praia', 'barrow', 'luderitz', 'nizhniy kuranakh', 'lolua', 'zelenoborskiy', 'kodiak', 'qeshm', 'kapaa', 'saleaula', 'hamilton', 'biak', 'kahului', 'garowe', 'sao lourenco do sul', 'port elizabeth', 'eenhana', 'marsa matruh', 'oistins', 'sao miguel do araguaia', 'kolpashevo', 'port moresby', 'sayyan', 'viedma', 'mikhaylovka', 'vaitape', 'luangwa', 'hovd', 'kaitangata', 'pierre', 'makakilo city', 'pushkar', 'porto franco', 'haimen', 'inyonga', 'olafsvik', 'chivilcoy', 'castro', 'sechura', 'pozo colorado', 'umm bab', 'san cristobal', 'buariki', 'sayansk', 'flin flon', 'baruun-urt', 'severo-kurilsk', 'ancud', 'alofi', 'beisfjord', 'fairbanks', 'maumere', 'port macquarie', 'nikolayevka', 'rudsar', 'havoysund', 'inongo', 'hasaki', 'new norfolk', 'conakry', 'rocha', 'half moon bay', 'beringovskiy', 'ossora', 'kavaratti', 'west bay', 'waipawa', 'north bend', 'sajanan', 'honiara', 'kjollefjord', 'bandarbeyla', 'tuktoyaktuk', 'solnechnyy', 'xuddur', 'college', 'samarai', 'strathmore', 'acarau', 'bjelovar', 'te anau', 'katsuura', 'ahipara', 'marand', 'victoria', 'tubruq', 'itanhaem', 'los llanos de aridane', 'dunmore town', 'tsihombe', 'megion', 'brae', 'eruwa', 'grand gaube', 'pendleton', 'sitka', 'putina', 'caravelas', 'meulaboh', 'kamenolomni', 'jalingo', 'vicuna', 'verkhoyansk', 'codrington', 'tombouctou', 'constitucion', 'bluefield', 'cuamba', 'tuatapere', 'juxtlahuaca', 'falmouth', 'yerbogachen', 'severodvinsk', 'vanimo', 'fortuna', 'esperance', 'kuusamo', 'itupiranga', 'houma', 'hambantota', 'shchelyayur', 'perth', 'grand river south east', 'tikamgarh', 'high level', 'palabuhanratu', 'portland', 'provideniya', 'wick', 'pacific grove', 'east london', 'semey', 'alta gracia', 'khorixas', 'heihe', 'goderich', 'harlingen', 'hanzhong', 'najran', 'kadykchan', 'atikokan', 'kebumen', 'mazsalaca', 'oksfjord', 'acapulco', 'mahebourg', 'clyde river', 'chokurdakh', 'taburao', 'berbera', 'anadyr', 'cayenne', 'islamkot', 'kvarkeno', 'phalombe', 'vila franca do campo', 'douentza', 'vaitupu', 'chernivtsi', 'igrim', 'kagoro', 'lakheri', 'aswan', 'maputo', 'sainte-suzanne', 'campbell river', 'longyearbyen', 'bayir', 'isangel', 'sakaiminato', 'iqaluit', 'macaboboni', 'rawson', 'naron', 'samusu', 'tornio', 'tasiilaq', 'killam', 'gao', 'price', 'lasa', 'torbay', 'mehamn', 'puerto colombia', 'yenagoa', 'kyshtovka', 'bambanglipuro', 'kununurra', 'camana', 'fernandez', 'aklavik', 'khromtau', 'tortoli', 'molina', 'lac du bonnet', 'linxia', 'san patricio', 'mount isa', 'noumea', 'elko', 'talnakh', 'itarema', 'las vegas', 'thabazimbi', 'saint george', 'plettenberg bay', 'kuche', 'iskateley', 'vadodara', 'berlevag', 'ostrovnoy', 'oga', 'phra phutthabat', 'mahenge', 'arawa', 'moron', 'cherskiy', 'kautokeino', 'sao filipe', 'basqal', 'adrar', 'warqla', 'hauterive', 'geraldton', 'xining', 'kijang', 'rio verde de mato grosso', 'siirt', 'buchanan', 'do rud', 'mahadday weyne', 'ndele', 'mgandu', 'uncia', 'phan rang', 'umm kaddadah', 'grand-santi', 'cap malheureux', 'lincoln', 'yizheng', 'antigonish', 'vardo', 'grindavik', 'kruisfontein', 'toccoa', 'tessalit', 'nemuro', 'syracuse', 'cuiluan', 'arlit', 'broken hill', 'lusaka', 'viligili', 'katobu', 'malakal', 'manoel urbano', 'pangai', 'lagunas', 'merritt island', 'necochea', 'harper', 'watertown', 'tabou', 'namatanai', 'tumannyy', 'nome', 'srandakan', 'mwinilunga', 'muyezerskiy', 'morant bay', 'hualmay', 'shaunavon', 'cedar city', 'leningradskiy', 'biltine', 'fort nelson', 'kropotkin', 'senneterre', 'mbandaka', 'antalaha', 'thai nguyen', 'gayeri', 'mogadishu', 'quimper', 'nicoya', 'cockburn town', 'gamba', 'yulara', 'kandi', 'kaduqli', 'marawi', 'sidney', 'sibolga', 'artyk', 'bargal', 'dumas', 'amderma', 'waw', 'tilichiki', 'tingrela', 'karaul', 'smithers', 'bundaberg', 'sucua', 'stykkisholmur', 'manakara', 'lisala', 'norman wells', 'vestmanna', 'mersing', 'campohermoso', 'kutum', 'at-bashi', 'general roca', 'tocopilla', 'mushie', 'laguna', 'salekhard', 'vallenar', 'wanning', 'moen', 'umzimvubu', 'geneva', 'casper', 'yatou', 'port stanley', 'pingliang', 'tenosique', 'trat', 'jaszbereny', 'ilulissat', 'mlonggo', 'salym', 'saldanha', 'port blair', 'shenkursk', 'kurilsk', 'nhulunbuy', 'izazi', 'atambua', 'ust-maya', 'saint-michel-des-saints', 'igarka', 'weatherford', 'tefe', 'ewa beach', 'kayerkan', 'awbari', 'palana', 'chapais', 'porto walter', 'erzin', 'richards bay', 'port lincoln', 'canoa', 'kapit', 'nuuk', 'yatsuo', 'praia da vitoria', 'muroto', 'dalinghe', 'mitsamiouli', 'mayumba', 'japura', 'ketchikan', 'ryazhsk', 'conde', 'coquimbo', 'sambava', 'gornopravdinsk', 'tommot', 'kailua', 'sobolevo', 'galiwinku', 'aksu', 'dolbeau', 'buta', 'natal', 'bolshaya vishera', 'sao joao da barra', 'mount gambier', 'phrai bung', 'zachagansk', 'manzanillo', 'hantsport', 'lorengau', 'weligama', 'urdzhar', 'belmonte', 'mega', 'bolobo', 'paita', 'copiapo', 'pisco', 'bemidji', 'petropavlovsk-kamchatskiy', 'bambous virieux', 'brockville', 'santa maria', 'puerto del rosario', 'dukat', 'labuhan', 'ucluelet', 'bosaso', 'quatre cocos', 'evanston', 'nushki', 'santa cruz de la palma', 'zhanaozen', 'batamshinskiy', 'nishihara', 'sakakah', 'araguaina', 'manokwari', 'nanortalik', 'sinnamary', 'ginda', 'aden', 'maymyo', 'nouadhibou', 'bereznik', 'leh', 'aykhal', 'toliary', 'narsaq', 'touros', 'westerland', 'winnemucca', 'mahibadhoo', 'hirara', 'malters', 'jalu', 'palaikastron', 'moerai', 'komsomolskiy', 'nagato', 'chicama', 'omsukchan', 'sur', 'cabrobo', 'bullhead city', 'shingu', 'porto novo', 'davila', 'jam sahib', 'minsk', 'ninh binh', 'mayo', 'kita', 'bima', 'xai-xai', 'jacareacanga', 'rurrenabaque', 'fallon', 'le pont-de-claix', 'inuvik', 'naze', 'kargasok', 'chilliwack', 'chipinge', 'vigrestad', 'aquiraz', 'takoradi', 'saint-francois', 'tuggurt', 'tokat', 'pandan', 'casablanca', 'bereda', 'robertson', 'mandurah', 'udachnyy', 'mtambile', 'rudbar', 'waddan', 'paracuru', 'vangaindrano', 'marcona', 'linkou', 'marsh harbour', 'husavik', 'kamaishi', 'kedrovyy', 'galgani', 'suntar', 'mednogorsk', 'paamiut', 'jujuy', 'bara', 'morgan city', 'olinda']\n"
     ]
    }
   ],
   "source": [
    "print(cities)"
   ]
  },
  {
   "cell_type": "code",
   "execution_count": 29,
   "metadata": {},
   "outputs": [
    {
     "data": {
      "text/plain": [
       "612"
      ]
     },
     "execution_count": 29,
     "metadata": {},
     "output_type": "execute_result"
    }
   ],
   "source": [
    "#cities[0].head()\n",
    "len(cities)"
   ]
  },
  {
   "cell_type": "code",
   "execution_count": 30,
   "metadata": {},
   "outputs": [],
   "source": [
    "weather_df = pd.DataFrame(columns=[\"City\",\"Cloudiness\",\"Country\",\"Date\",\"Humidity\",\"Lat\",\"Lng\",\"Max_Temp\",\"Wind_Speed\"])\n"
   ]
  },
  {
   "cell_type": "code",
   "execution_count": null,
   "metadata": {},
   "outputs": [
    {
     "name": "stdout",
     "output_type": "stream",
     "text": [
      "marienburg\n",
      "I have a problem\n",
      "busselton\n",
      "I have a problem\n",
      "rikitea\n",
      "I have a problem\n",
      "alyangula\n",
      "I have a problem\n",
      "sentyabrskiy\n",
      "I have a problem\n",
      "dunedin\n",
      "I have a problem\n",
      "esso\n",
      "I have a problem\n",
      "ushuaia\n",
      "I have a problem\n",
      "cape town\n",
      "I have a problem\n",
      "avarua\n",
      "I have a problem\n",
      "mys shmidta\n",
      "I have a problem\n",
      "saint-augustin\n",
      "I have a problem\n",
      "punta arenas\n",
      "I have a problem\n",
      "tucuman\n",
      "I have a problem\n",
      "faanui\n",
      "I have a problem\n",
      "hofn\n",
      "I have a problem\n",
      "dodge city\n",
      "I have a problem\n",
      "san vicente\n",
      "I have a problem\n",
      "hobart\n",
      "I have a problem\n",
      "bengkulu\n",
      "I have a problem\n",
      "byron bay\n",
      "I have a problem\n",
      "viile satu mare\n",
      "I have a problem\n",
      "taolanaro\n",
      "I have a problem\n",
      "oranjestad\n",
      "I have a problem\n",
      "mataura\n",
      "I have a problem\n",
      "klaksvik\n",
      "I have a problem\n",
      "fasa\n",
      "I have a problem\n",
      "albany\n",
      "I have a problem\n",
      "georgetown\n",
      "I have a problem\n",
      "la ronge\n",
      "I have a problem\n",
      "varna\n",
      "I have a problem\n",
      "obama\n",
      "I have a problem\n",
      "santa isabel do rio negro\n",
      "I have a problem\n",
      "saint-philippe\n",
      "I have a problem\n",
      "huarmey\n",
      "I have a problem\n",
      "butaritari\n",
      "I have a problem\n",
      "dalvik\n",
      "I have a problem\n",
      "alice springs\n",
      "I have a problem\n",
      "farah\n",
      "I have a problem\n",
      "vrangel\n",
      "I have a problem\n",
      "vaini\n",
      "I have a problem\n",
      "gazli\n",
      "I have a problem\n",
      "ballina\n",
      "I have a problem\n",
      "cabo san lucas\n",
      "I have a problem\n",
      "lahaina\n",
      "I have a problem\n",
      "port alfred\n",
      "I have a problem\n",
      "bredasdorp\n",
      "I have a problem\n",
      "mar del plata\n",
      "I have a problem\n",
      "eydhafushi\n",
      "I have a problem\n",
      "jamestown\n",
      "I have a problem\n",
      "idrija\n",
      "I have a problem\n",
      "cordoba\n",
      "I have a problem\n",
      "bethel\n",
      "I have a problem\n",
      "tasbuget\n",
      "I have a problem\n",
      "hilo\n",
      "I have a problem\n",
      "pevek\n",
      "I have a problem\n",
      "ponta do sol\n",
      "I have a problem\n",
      "iracoubo\n",
      "I have a problem\n",
      "rio grande\n",
      "I have a problem\n",
      "pangnirtung\n",
      "I have a problem\n",
      "nanakuli\n",
      "I have a problem\n",
      "margate\n",
      "I have a problem\n",
      "chuy\n",
      "I have a problem\n",
      "amberley\n",
      "I have a problem\n",
      "lebu\n",
      "I have a problem\n",
      "airai\n",
      "I have a problem\n",
      "poum\n",
      "I have a problem\n",
      "udimskiy\n",
      "I have a problem\n",
      "vila velha\n",
      "I have a problem\n",
      "manavalakurichi\n",
      "I have a problem\n",
      "nkayi\n",
      "I have a problem\n",
      "atuona\n",
      "I have a problem\n",
      "hithadhoo\n",
      "I have a problem\n",
      "ayer itam\n",
      "I have a problem\n",
      "tarakan\n",
      "I have a problem\n",
      "salinopolis\n",
      "I have a problem\n",
      "qaanaaq\n",
      "I have a problem\n",
      "forestville\n",
      "I have a problem\n",
      "toba\n",
      "I have a problem\n",
      "nizhneyansk\n",
      "I have a problem\n",
      "hermanus\n",
      "I have a problem\n",
      "shimoda\n",
      "I have a problem\n",
      "bluff\n",
      "I have a problem\n",
      "boundiali\n",
      "I have a problem\n",
      "ribas do rio pardo\n",
      "I have a problem\n",
      "puerto ayora\n",
      "I have a problem\n",
      "barentsburg\n",
      "I have a problem\n",
      "illoqqortoormiut\n",
      "I have a problem\n",
      "nikolskoye\n",
      "I have a problem\n",
      "upernavik\n",
      "I have a problem\n",
      "saint-pierre\n",
      "I have a problem\n",
      "kavieng\n",
      "I have a problem\n",
      "attawapiskat\n",
      "I have a problem\n",
      "port hardy\n",
      "I have a problem\n",
      "thompson\n",
      "I have a problem\n",
      "chumikan\n",
      "I have a problem\n",
      "kamenskoye\n",
      "I have a problem\n",
      "yellowknife\n",
      "I have a problem\n",
      "carnarvon\n",
      "I have a problem\n",
      "spokane\n",
      "I have a problem\n",
      "saskylakh\n",
      "I have a problem\n",
      "sioux lookout\n",
      "I have a problem\n",
      "belushya guba\n",
      "I have a problem\n",
      "phalaborwa\n",
      "I have a problem\n",
      "masterton\n",
      "I have a problem\n",
      "azimur\n",
      "I have a problem\n",
      "souillac\n",
      "I have a problem\n",
      "khatanga\n",
      "I have a problem\n",
      "haines junction\n",
      "I have a problem\n",
      "vestmannaeyjar\n",
      "I have a problem\n",
      "saint-georges\n",
      "I have a problem\n",
      "the valley\n",
      "I have a problem\n",
      "iralaya\n",
      "I have a problem\n",
      "dikson\n",
      "I have a problem\n",
      "vysokogornyy\n",
      "I have a problem\n",
      "polovinnoye\n",
      "I have a problem\n",
      "tiksi\n",
      "I have a problem\n",
      "arraial do cabo\n",
      "I have a problem\n",
      "khonuu\n",
      "I have a problem\n",
      "ribeira grande\n",
      "I have a problem\n",
      "guerrero negro\n",
      "I have a problem\n",
      "praia\n",
      "I have a problem\n",
      "barrow\n",
      "I have a problem\n",
      "luderitz\n",
      "I have a problem\n",
      "nizhniy kuranakh\n",
      "I have a problem\n",
      "lolua\n",
      "I have a problem\n",
      "zelenoborskiy\n",
      "I have a problem\n",
      "kodiak\n",
      "I have a problem\n",
      "qeshm\n",
      "I have a problem\n",
      "kapaa\n",
      "I have a problem\n",
      "saleaula\n",
      "I have a problem\n",
      "hamilton\n",
      "I have a problem\n",
      "biak\n",
      "I have a problem\n",
      "kahului\n",
      "I have a problem\n",
      "garowe\n",
      "I have a problem\n",
      "sao lourenco do sul\n",
      "I have a problem\n",
      "port elizabeth\n",
      "I have a problem\n",
      "eenhana\n",
      "I have a problem\n",
      "marsa matruh\n",
      "I have a problem\n",
      "oistins\n",
      "I have a problem\n",
      "sao miguel do araguaia\n",
      "I have a problem\n",
      "kolpashevo\n",
      "I have a problem\n",
      "port moresby\n",
      "I have a problem\n",
      "sayyan\n",
      "I have a problem\n",
      "viedma\n",
      "I have a problem\n",
      "mikhaylovka\n",
      "I have a problem\n",
      "vaitape\n",
      "I have a problem\n",
      "luangwa\n",
      "I have a problem\n",
      "hovd\n",
      "I have a problem\n",
      "kaitangata\n",
      "I have a problem\n",
      "pierre\n",
      "I have a problem\n",
      "makakilo city\n",
      "I have a problem\n",
      "pushkar\n",
      "I have a problem\n",
      "porto franco\n",
      "I have a problem\n",
      "haimen\n",
      "I have a problem\n",
      "inyonga\n",
      "I have a problem\n",
      "olafsvik\n",
      "I have a problem\n",
      "chivilcoy\n",
      "I have a problem\n",
      "castro\n",
      "I have a problem\n",
      "sechura\n",
      "I have a problem\n",
      "pozo colorado\n",
      "I have a problem\n",
      "umm bab\n",
      "I have a problem\n",
      "san cristobal\n",
      "I have a problem\n",
      "buariki\n",
      "I have a problem\n",
      "sayansk\n",
      "I have a problem\n",
      "flin flon\n"
     ]
    }
   ],
   "source": [
    "\n",
    "for cityname in cities:\n",
    "#     print(f\"{cityname}\")\n",
    "    print(cityname)\n",
    "#    lat = latlon[0]\n",
    "#    lon = latlon[1]\n",
    "    try:\n",
    "        #var=requests.get(\"https://api.openweathermap.org/data/2.5/weather\",params={\"lat\":lat,\"lon\":lon,\"appid\":api_key}).json()\n",
    "        var=requests.get(f\"https://api.openweathermap.org/data/2.5/weather?q={cityname}&appid={api_key}\").json()\n",
    "#         print(f\"{var}\")\n",
    "        #         #cityn = var[\"name\"]\n",
    "        if cityname:\n",
    "            cityn = cityname\n",
    "       # print('City':cityn)\n",
    "        if clouds:\n",
    "            clouds = [\"clouds\"][\"all\"]\n",
    "       # print('Cloudiness':clouds)\n",
    "        if country:\n",
    "            country =var[\"sys\"][\"country\"]\n",
    "        #print(\"Country\":country)\n",
    "        if date:\n",
    "            date = var[\"dt\"]#print#('check1')\n",
    "       # print(\"Date\":date)#('check1')\n",
    "        #date =(((date/60)/60)/24)+DATE(1970,1,1)\n",
    "        if humidity:\n",
    "              humidity = var[\"main\"][\"humidity\"]\n",
    "       # print(\"Humidity\":humidity)\n",
    "        if lat:     \n",
    "             lat = var[\"coord\"][\"lat\"]\n",
    "        #print(\"Lat\":lat)\n",
    "        if lon: \n",
    "             long = var[\"coord\"][\"lon\"]\n",
    "        #print(\"Lng:long\")\n",
    "        if maxtemp:     \n",
    "            maxtemp = var[\"main\"][\"temp_max\"]\n",
    "       # maxtemp= maxtemp * (9/5)+32\n",
    "       # print(\"Max_Temp\":maxtemp)       \n",
    "        if windspeed:\n",
    "            windspeed = var[\"wind\"][\"speed\"]\n",
    "        #print(\"Wind_Speed\":windspeed)\n",
    "    #windspeed = windspeed / (0.44704)\n",
    "# #this is the process that takes the variables from the jason and associates them to the dataframe                                      \n",
    "        Values_dict = {\"City\":cityn,\"Cloudiness\":clouds,\"Country\":country,\"Date\":date,\"Humidity\":humidity,\"Lat\":lat,\"Lng\":long,\"Max_Temp\":maxtemp,\"Wind_Speed\":windspeed}   \n",
    "        #print('check3')\n",
    "        if cityn:\n",
    "           # print('check4')\n",
    "            weather_df = weather_df.append(Values_dict, ignore_index = True)\n",
    "           # print('check5')\n",
    "#             print(weather_df)\n",
    "    except:\n",
    "        print(\"I have a problem\")"
   ]
  },
  {
   "cell_type": "code",
   "execution_count": null,
   "metadata": {},
   "outputs": [],
   "source": [
    "# var=requests.get(f\"https://api.openweathermap.org/data/2.5/weather?q=London&appid={api_key}\").json()\n",
    "# print (var)"
   ]
  },
  {
   "cell_type": "code",
   "execution_count": 28,
   "metadata": {},
   "outputs": [
    {
     "data": {
      "text/html": [
       "<div>\n",
       "<style scoped>\n",
       "    .dataframe tbody tr th:only-of-type {\n",
       "        vertical-align: middle;\n",
       "    }\n",
       "\n",
       "    .dataframe tbody tr th {\n",
       "        vertical-align: top;\n",
       "    }\n",
       "\n",
       "    .dataframe thead th {\n",
       "        text-align: right;\n",
       "    }\n",
       "</style>\n",
       "<table border=\"1\" class=\"dataframe\">\n",
       "  <thead>\n",
       "    <tr style=\"text-align: right;\">\n",
       "      <th></th>\n",
       "      <th>City</th>\n",
       "      <th>Cloudiness</th>\n",
       "      <th>Country</th>\n",
       "      <th>Date</th>\n",
       "      <th>Humidity</th>\n",
       "      <th>Lat</th>\n",
       "      <th>Lng</th>\n",
       "      <th>Max_Temp</th>\n",
       "      <th>Wind_Speed</th>\n",
       "    </tr>\n",
       "  </thead>\n",
       "  <tbody>\n",
       "  </tbody>\n",
       "</table>\n",
       "</div>"
      ],
      "text/plain": [
       "Empty DataFrame\n",
       "Columns: [City, Cloudiness, Country, Date, Humidity, Lat, Lng, Max_Temp, Wind_Speed]\n",
       "Index: []"
      ]
     },
     "execution_count": 28,
     "metadata": {},
     "output_type": "execute_result"
    }
   ],
   "source": [
    "weather_df.head(30)"
   ]
  },
  {
   "cell_type": "code",
   "execution_count": null,
   "metadata": {},
   "outputs": [],
   "source": []
  },
  {
   "cell_type": "code",
   "execution_count": null,
   "metadata": {},
   "outputs": [],
   "source": []
  },
  {
   "cell_type": "code",
   "execution_count": null,
   "metadata": {},
   "outputs": [],
   "source": []
  }
 ],
 "metadata": {
  "kernelspec": {
   "display_name": "Python 3",
   "language": "python",
   "name": "python3"
  }
 },
 "nbformat": 4,
 "nbformat_minor": 2
}
